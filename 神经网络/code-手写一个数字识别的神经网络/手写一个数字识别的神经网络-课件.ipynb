{
 "cells": [
  {
   "cell_type": "code",
   "execution_count": 1,
   "metadata": {},
   "outputs": [],
   "source": [
    "import numpy as np\n",
    "import pandas as pd\n",
    "import matplotlib.pyplot as plt\n",
    "import gzip"
   ]
  },
  {
   "cell_type": "code",
   "execution_count": 2,
   "metadata": {},
   "outputs": [],
   "source": [
    "def sigmoid(x):\n",
    "    return 1 / (1+ np.exp(-x))\n",
    "\n",
    "def softmax(a):\n",
    "    exp_a = np.exp(a)\n",
    "    sum_exp_a = np.sum(exp_a)\n",
    "    \n",
    "    return exp_a / sum_exp_a"
   ]
  },
  {
   "cell_type": "markdown",
   "metadata": {},
   "source": [
    "### MNIST数据集"
   ]
  },
  {
   "cell_type": "markdown",
   "metadata": {},
   "source": [
    "<img src=\"./mnist数据集样例.png\" width=\"30%\">"
   ]
  },
  {
   "cell_type": "code",
   "execution_count": 3,
   "metadata": {},
   "outputs": [],
   "source": [
    "img_size = 28*28  #图像大小\n",
    "\n",
    "dataset_dir = './data'   #MNIST数据集的保存路径\n",
    "\n",
    "key_file = {\n",
    "    'train_img':'train-images-idx3-ubyte.gz',    #训练数据\n",
    "    'train_label':'train-labels-idx1-ubyte.gz',  #训练数据标签\n",
    "    'test_img':'t10k-images-idx3-ubyte.gz',      #测试数据\n",
    "    'test_label':'t10k-labels-idx1-ubyte.gz'     #测试数据预测值标签\n",
    "}\n",
    "\n",
    "def _load_img(file_name):    #加载图像数据\n",
    "    file_path =  dataset_dir + \"/\" + file_name\n",
    "   \n",
    "    with gzip.open(file_path, 'rb') as f:\n",
    "        data = np.frombuffer(f.read(), np.uint8, offset=16)\n",
    "    data = data.reshape(-1, img_size)\n",
    "    \n",
    "    return data\n",
    "\n",
    "\n",
    "def _load_label(file_name):  #加载标签数据\n",
    "    file_path = dataset_dir + \"/\" + file_name\n",
    "    \n",
    "    with gzip.open(file_path, 'rb') as f:\n",
    "        labels = np.frombuffer(f.read(), np.uint8, offset=8)\n",
    "    \n",
    "    return labels\n",
    "\n",
    "def get_data():\n",
    "    x_train = _load_img(key_file['train_img'])\n",
    "    t_train = _load_label(key_file['train_label'])\n",
    "    x_test = _load_img(key_file['test_img'])\n",
    "    t_test = _load_label(key_file['test_label'])\n",
    "    \n",
    "    return x_train, t_train, x_test, t_test"
   ]
  },
  {
   "cell_type": "code",
   "execution_count": 4,
   "metadata": {},
   "outputs": [],
   "source": [
    "x_train, t_train, x_test, t_test = get_data()"
   ]
  },
  {
   "cell_type": "code",
   "execution_count": 5,
   "metadata": {},
   "outputs": [
    {
     "name": "stdout",
     "output_type": "stream",
     "text": [
      "x_train shape: (60000, 784)\n",
      "x_test shape: (10000, 784)\n",
      "t_train shape: (60000,)\n"
     ]
    }
   ],
   "source": [
    "print('x_train shape:', x_train.shape)\n",
    "print('x_test shape:', x_test.shape)\n",
    "print('t_train shape:', t_train.shape)"
   ]
  },
  {
   "cell_type": "code",
   "execution_count": 6,
   "metadata": {},
   "outputs": [],
   "source": [
    "#图片显示\n",
    "\n",
    "img = x_train[0].reshape(28, 28)\n",
    "\n",
    "from PIL import Image\n",
    "pil_img = Image.fromarray(np.uint8(img))    #实现array到image的转换\n",
    "pil_img.show()"
   ]
  },
  {
   "cell_type": "code",
   "execution_count": 7,
   "metadata": {},
   "outputs": [
    {
     "data": {
      "text/plain": [
       "5"
      ]
     },
     "execution_count": 7,
     "metadata": {},
     "output_type": "execute_result"
    }
   ],
   "source": [
    "t_train[0]"
   ]
  },
  {
   "cell_type": "markdown",
   "metadata": {},
   "source": [
    "### 构建神经网络模型"
   ]
  },
  {
   "cell_type": "markdown",
   "metadata": {},
   "source": [
    "这里假设神经网络的参数已经确定(关于如何确定神经网络的参数，后面会讲到)<br>\n",
    "通过这个数据集，演示网络的前向传播过程"
   ]
  },
  {
   "cell_type": "code",
   "execution_count": 8,
   "metadata": {},
   "outputs": [],
   "source": [
    "## W,b \n",
    "\n",
    "import pickle\n",
    "\n",
    "def init_network():\n",
    "    with open(\"sample_weight.pkl\", \"rb\") as f:\n",
    "        network = pickle.load(f)\n",
    "    \n",
    "    return network"
   ]
  },
  {
   "cell_type": "code",
   "execution_count": 9,
   "metadata": {},
   "outputs": [],
   "source": [
    "network = init_network()"
   ]
  },
  {
   "cell_type": "code",
   "execution_count": 10,
   "metadata": {},
   "outputs": [
    {
     "data": {
      "text/plain": [
       "dict_keys(['b2', 'W1', 'b1', 'W2', 'W3', 'b3'])"
      ]
     },
     "execution_count": 10,
     "metadata": {},
     "output_type": "execute_result"
    }
   ],
   "source": [
    "network.keys()"
   ]
  },
  {
   "cell_type": "code",
   "execution_count": 11,
   "metadata": {},
   "outputs": [
    {
     "name": "stdout",
     "output_type": "stream",
     "text": [
      "(784, 50)\n",
      "(50,)\n",
      "(50, 100)\n",
      "(100,)\n",
      "(100, 10)\n",
      "(10,)\n"
     ]
    }
   ],
   "source": [
    "print(network[\"W1\"].shape)\n",
    "print(network[\"b1\"].shape)\n",
    "print(network[\"W2\"].shape)\n",
    "print(network[\"b2\"].shape)\n",
    "print(network[\"W3\"].shape)\n",
    "print(network[\"b3\"].shape)"
   ]
  },
  {
   "cell_type": "code",
   "execution_count": 12,
   "metadata": {},
   "outputs": [],
   "source": [
    "#构建的是一个3层的神经网络模型，输入是784维，第一个隐藏层是50个节点，第二个隐藏层有100个节点，输出层有10个节点"
   ]
  },
  {
   "cell_type": "code",
   "execution_count": 13,
   "metadata": {},
   "outputs": [],
   "source": [
    "def predict(network, x):\n",
    "    W1, W2, W3 = network['W1'],network['W2'],network['W3']\n",
    "    b1, b2, b3 = network['b1'], network['b2'], network['b3']\n",
    "    \n",
    "    z1 = np.dot(x, W1) + b1\n",
    "    a1 = sigmoid(z1)\n",
    "    z2 = np.dot(a1, W2) + b2\n",
    "    a2 = sigmoid(z2)\n",
    "    z3 = np.dot(a2, W3) + b3\n",
    "    y = softmax(z3)\n",
    "    \n",
    "    return y"
   ]
  },
  {
   "cell_type": "code",
   "execution_count": 14,
   "metadata": {},
   "outputs": [
    {
     "name": "stderr",
     "output_type": "stream",
     "text": [
      "C:\\ProgramData\\Anaconda3\\lib\\site-packages\\ipykernel_launcher.py:2: RuntimeWarning: overflow encountered in exp\n",
      "  \n"
     ]
    },
    {
     "name": "stdout",
     "output_type": "stream",
     "text": [
      "Accuracy: 0.9207\n"
     ]
    }
   ],
   "source": [
    "##用test数据进行预测，并label标签进行比对，获取模型的精度、准确度\n",
    "accuracy = 0\n",
    "\n",
    "for i in range(len(x_test)):\n",
    "    y_hat = predict(network, x_test[i])\n",
    "    #y_hat 与 t_test[i]进行比对\n",
    "    p = np.argmax(y_hat)\n",
    "    if p == t_test[i]:\n",
    "        accuracy += 1\n",
    "        \n",
    "print(\"Accuracy:\", float(accuracy) / len(x_test))"
   ]
  },
  {
   "cell_type": "code",
   "execution_count": 15,
   "metadata": {},
   "outputs": [
    {
     "data": {
      "text/plain": [
       "array([2, 2, 0], dtype=int64)"
      ]
     },
     "execution_count": 15,
     "metadata": {},
     "output_type": "execute_result"
    }
   ],
   "source": [
    "y_batch_hat = np.array([\n",
    "    [0.1, 0.2, 0.8, 0.01, 0.01],\n",
    "    [0.3, 0.4, 0.5, 0.01, 0.01],\n",
    "    [0.8, 0.01, 0.01, 0.01, 0.01]\n",
    "])\n",
    "np.argmax(y_batch_hat, axis=1)"
   ]
  },
  {
   "cell_type": "markdown",
   "metadata": {},
   "source": [
    "### 批处理batch size"
   ]
  },
  {
   "cell_type": "code",
   "execution_count": 16,
   "metadata": {},
   "outputs": [
    {
     "name": "stderr",
     "output_type": "stream",
     "text": [
      "C:\\ProgramData\\Anaconda3\\lib\\site-packages\\ipykernel_launcher.py:2: RuntimeWarning: overflow encountered in exp\n",
      "  \n"
     ]
    },
    {
     "name": "stdout",
     "output_type": "stream",
     "text": [
      "Accuracy: 0.9207\n"
     ]
    }
   ],
   "source": [
    "batch_size = 100 #批数量\n",
    "\n",
    "accuracy_cnt = 0\n",
    "\n",
    "for i in range(0, len(x_test), batch_size):\n",
    "    x_batch = x_test[i: i+batch_size]\n",
    "    y_batch_hat = predict(network, x_batch)\n",
    "    #y_batch_hat 与 t_test[i:i+batch_size]进行比对\n",
    "    p = np.argmax(y_batch_hat, axis=1)\n",
    "    accuracy_cnt += np.sum(p==t_test[i:i+batch_size])\n",
    "        \n",
    "print(\"Accuracy:\", float(accuracy_cnt) / len(x_test))"
   ]
  }
 ],
 "metadata": {
  "kernelspec": {
   "display_name": "Python 3",
   "language": "python",
   "name": "python3"
  },
  "language_info": {
   "codemirror_mode": {
    "name": "ipython",
    "version": 3
   },
   "file_extension": ".py",
   "mimetype": "text/x-python",
   "name": "python",
   "nbconvert_exporter": "python",
   "pygments_lexer": "ipython3",
   "version": "3.7.3"
  },
  "toc": {
   "base_numbering": 1,
   "nav_menu": {},
   "number_sections": true,
   "sideBar": true,
   "skip_h1_title": false,
   "title_cell": "Table of Contents",
   "title_sidebar": "Contents",
   "toc_cell": false,
   "toc_position": {
    "height": "calc(100% - 180px)",
    "left": "10px",
    "top": "150px",
    "width": "215.667px"
   },
   "toc_section_display": true,
   "toc_window_display": true
  }
 },
 "nbformat": 4,
 "nbformat_minor": 2
}
