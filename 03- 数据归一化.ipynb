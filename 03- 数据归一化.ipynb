{
 "cells": [
  {
   "cell_type": "markdown",
   "metadata": {},
   "source": [
    "### 导入库函数\n"
   ]
  },
  {
   "cell_type": "code",
   "execution_count": null,
   "metadata": {},
   "outputs": [],
   "source": [
    "import numpy\n",
    "import pandas\n",
    "\n",
    "from sklearn.model_selection import train_test_split\n",
    "from sklearn import datasets\n",
    "from sklearn.neighbors import KNeighborsClassifier"
   ]
  },
  {
   "cell_type": "markdown",
   "metadata": {},
   "source": [
    "### 加载iris数据集"
   ]
  },
  {
   "cell_type": "code",
   "execution_count": 24,
   "metadata": {},
   "outputs": [],
   "source": [
    "iris = datasets.load_iris()\n",
    "\n",
    "X = iris.data\n",
    "y = iris.target"
   ]
  },
  {
   "cell_type": "markdown",
   "metadata": {},
   "source": [
    "### 数据归一化"
   ]
  },
  {
   "cell_type": "code",
   "execution_count": 25,
   "metadata": {},
   "outputs": [],
   "source": [
    "from sklearn.preprocessing import MinMaxScaler\n",
    "\n",
    "scaler = MinMaxScaler()\n",
    "scaler.fit(X)\n",
    "X = scaler.transform(X)\n",
    "\n",
    "X_train, X_test, y_train, y_test = train_test_split(X, y,test_size=0.2, random_state=66)"
   ]
  },
  {
   "cell_type": "markdown",
   "metadata": {},
   "source": [
    "### 模型构建"
   ]
  },
  {
   "cell_type": "code",
   "execution_count": 27,
   "metadata": {},
   "outputs": [
    {
     "name": "stderr",
     "output_type": "stream",
     "text": [
      "c:\\work\\www\\python\\venv\\lib\\site-packages\\sklearn\\model_selection\\_validation.py:552: FitFailedWarning: Estimator fit failed. The score on this train-test partition for these parameters will be set to nan. Details: \n",
      "Traceback (most recent call last):\n",
      "  File \"c:\\work\\www\\python\\venv\\lib\\site-packages\\sklearn\\model_selection\\_validation.py\", line 531, in _fit_and_score\n",
      "    estimator.fit(X_train, y_train, **fit_params)\n",
      "  File \"c:\\work\\www\\python\\venv\\lib\\site-packages\\sklearn\\neighbors\\_base.py\", line 1157, in fit\n",
      "    return self._fit(X)\n",
      "  File \"c:\\work\\www\\python\\venv\\lib\\site-packages\\sklearn\\neighbors\\_base.py\", line 469, in _fit\n",
      "    self.n_neighbors\n",
      "ValueError: Expected n_neighbors > 0. Got 0\n",
      "\n",
      "  FitFailedWarning)\n",
      "c:\\work\\www\\python\\venv\\lib\\site-packages\\sklearn\\model_selection\\_validation.py:552: FitFailedWarning: Estimator fit failed. The score on this train-test partition for these parameters will be set to nan. Details: \n",
      "Traceback (most recent call last):\n",
      "  File \"c:\\work\\www\\python\\venv\\lib\\site-packages\\sklearn\\model_selection\\_validation.py\", line 531, in _fit_and_score\n",
      "    estimator.fit(X_train, y_train, **fit_params)\n",
      "  File \"c:\\work\\www\\python\\venv\\lib\\site-packages\\sklearn\\neighbors\\_base.py\", line 1157, in fit\n",
      "    return self._fit(X)\n",
      "  File \"c:\\work\\www\\python\\venv\\lib\\site-packages\\sklearn\\neighbors\\_base.py\", line 469, in _fit\n",
      "    self.n_neighbors\n",
      "ValueError: Expected n_neighbors > 0. Got 0\n",
      "\n",
      "  FitFailedWarning)\n",
      "c:\\work\\www\\python\\venv\\lib\\site-packages\\sklearn\\model_selection\\_validation.py:552: FitFailedWarning: Estimator fit failed. The score on this train-test partition for these parameters will be set to nan. Details: \n",
      "Traceback (most recent call last):\n",
      "  File \"c:\\work\\www\\python\\venv\\lib\\site-packages\\sklearn\\model_selection\\_validation.py\", line 531, in _fit_and_score\n",
      "    estimator.fit(X_train, y_train, **fit_params)\n",
      "  File \"c:\\work\\www\\python\\venv\\lib\\site-packages\\sklearn\\neighbors\\_base.py\", line 1157, in fit\n",
      "    return self._fit(X)\n",
      "  File \"c:\\work\\www\\python\\venv\\lib\\site-packages\\sklearn\\neighbors\\_base.py\", line 469, in _fit\n",
      "    self.n_neighbors\n",
      "ValueError: Expected n_neighbors > 0. Got 0\n",
      "\n",
      "  FitFailedWarning)\n",
      "c:\\work\\www\\python\\venv\\lib\\site-packages\\sklearn\\model_selection\\_validation.py:552: FitFailedWarning: Estimator fit failed. The score on this train-test partition for these parameters will be set to nan. Details: \n",
      "Traceback (most recent call last):\n",
      "  File \"c:\\work\\www\\python\\venv\\lib\\site-packages\\sklearn\\model_selection\\_validation.py\", line 531, in _fit_and_score\n",
      "    estimator.fit(X_train, y_train, **fit_params)\n",
      "  File \"c:\\work\\www\\python\\venv\\lib\\site-packages\\sklearn\\neighbors\\_base.py\", line 1157, in fit\n",
      "    return self._fit(X)\n",
      "  File \"c:\\work\\www\\python\\venv\\lib\\site-packages\\sklearn\\neighbors\\_base.py\", line 469, in _fit\n",
      "    self.n_neighbors\n",
      "ValueError: Expected n_neighbors > 0. Got 0\n",
      "\n",
      "  FitFailedWarning)\n",
      "c:\\work\\www\\python\\venv\\lib\\site-packages\\sklearn\\model_selection\\_validation.py:552: FitFailedWarning: Estimator fit failed. The score on this train-test partition for these parameters will be set to nan. Details: \n",
      "Traceback (most recent call last):\n",
      "  File \"c:\\work\\www\\python\\venv\\lib\\site-packages\\sklearn\\model_selection\\_validation.py\", line 531, in _fit_and_score\n",
      "    estimator.fit(X_train, y_train, **fit_params)\n",
      "  File \"c:\\work\\www\\python\\venv\\lib\\site-packages\\sklearn\\neighbors\\_base.py\", line 1157, in fit\n",
      "    return self._fit(X)\n",
      "  File \"c:\\work\\www\\python\\venv\\lib\\site-packages\\sklearn\\neighbors\\_base.py\", line 469, in _fit\n",
      "    self.n_neighbors\n",
      "ValueError: Expected n_neighbors > 0. Got 0\n",
      "\n",
      "  FitFailedWarning)\n",
      "c:\\work\\www\\python\\venv\\lib\\site-packages\\sklearn\\model_selection\\_validation.py:552: FitFailedWarning: Estimator fit failed. The score on this train-test partition for these parameters will be set to nan. Details: \n",
      "Traceback (most recent call last):\n",
      "  File \"c:\\work\\www\\python\\venv\\lib\\site-packages\\sklearn\\model_selection\\_validation.py\", line 531, in _fit_and_score\n",
      "    estimator.fit(X_train, y_train, **fit_params)\n",
      "  File \"c:\\work\\www\\python\\venv\\lib\\site-packages\\sklearn\\neighbors\\_base.py\", line 1157, in fit\n",
      "    return self._fit(X)\n",
      "  File \"c:\\work\\www\\python\\venv\\lib\\site-packages\\sklearn\\neighbors\\_base.py\", line 469, in _fit\n",
      "    self.n_neighbors\n",
      "ValueError: Expected n_neighbors > 0. Got 0\n",
      "\n",
      "  FitFailedWarning)\n",
      "c:\\work\\www\\python\\venv\\lib\\site-packages\\sklearn\\model_selection\\_validation.py:552: FitFailedWarning: Estimator fit failed. The score on this train-test partition for these parameters will be set to nan. Details: \n",
      "Traceback (most recent call last):\n",
      "  File \"c:\\work\\www\\python\\venv\\lib\\site-packages\\sklearn\\model_selection\\_validation.py\", line 531, in _fit_and_score\n",
      "    estimator.fit(X_train, y_train, **fit_params)\n",
      "  File \"c:\\work\\www\\python\\venv\\lib\\site-packages\\sklearn\\neighbors\\_base.py\", line 1157, in fit\n",
      "    return self._fit(X)\n",
      "  File \"c:\\work\\www\\python\\venv\\lib\\site-packages\\sklearn\\neighbors\\_base.py\", line 469, in _fit\n",
      "    self.n_neighbors\n",
      "ValueError: Expected n_neighbors > 0. Got 0\n",
      "\n",
      "  FitFailedWarning)\n",
      "c:\\work\\www\\python\\venv\\lib\\site-packages\\sklearn\\model_selection\\_validation.py:552: FitFailedWarning: Estimator fit failed. The score on this train-test partition for these parameters will be set to nan. Details: \n",
      "Traceback (most recent call last):\n",
      "  File \"c:\\work\\www\\python\\venv\\lib\\site-packages\\sklearn\\model_selection\\_validation.py\", line 531, in _fit_and_score\n",
      "    estimator.fit(X_train, y_train, **fit_params)\n",
      "  File \"c:\\work\\www\\python\\venv\\lib\\site-packages\\sklearn\\neighbors\\_base.py\", line 1157, in fit\n",
      "    return self._fit(X)\n",
      "  File \"c:\\work\\www\\python\\venv\\lib\\site-packages\\sklearn\\neighbors\\_base.py\", line 469, in _fit\n",
      "    self.n_neighbors\n",
      "ValueError: Expected n_neighbors > 0. Got 0\n",
      "\n",
      "  FitFailedWarning)\n",
      "c:\\work\\www\\python\\venv\\lib\\site-packages\\sklearn\\model_selection\\_validation.py:552: FitFailedWarning: Estimator fit failed. The score on this train-test partition for these parameters will be set to nan. Details: \n",
      "Traceback (most recent call last):\n",
      "  File \"c:\\work\\www\\python\\venv\\lib\\site-packages\\sklearn\\model_selection\\_validation.py\", line 531, in _fit_and_score\n",
      "    estimator.fit(X_train, y_train, **fit_params)\n",
      "  File \"c:\\work\\www\\python\\venv\\lib\\site-packages\\sklearn\\neighbors\\_base.py\", line 1157, in fit\n",
      "    return self._fit(X)\n",
      "  File \"c:\\work\\www\\python\\venv\\lib\\site-packages\\sklearn\\neighbors\\_base.py\", line 469, in _fit\n",
      "    self.n_neighbors\n",
      "ValueError: Expected n_neighbors > 0. Got 0\n",
      "\n",
      "  FitFailedWarning)\n",
      "c:\\work\\www\\python\\venv\\lib\\site-packages\\sklearn\\model_selection\\_validation.py:552: FitFailedWarning: Estimator fit failed. The score on this train-test partition for these parameters will be set to nan. Details: \n",
      "Traceback (most recent call last):\n",
      "  File \"c:\\work\\www\\python\\venv\\lib\\site-packages\\sklearn\\model_selection\\_validation.py\", line 531, in _fit_and_score\n",
      "    estimator.fit(X_train, y_train, **fit_params)\n",
      "  File \"c:\\work\\www\\python\\venv\\lib\\site-packages\\sklearn\\neighbors\\_base.py\", line 1157, in fit\n",
      "    return self._fit(X)\n",
      "  File \"c:\\work\\www\\python\\venv\\lib\\site-packages\\sklearn\\neighbors\\_base.py\", line 469, in _fit\n",
      "    self.n_neighbors\n",
      "ValueError: Expected n_neighbors > 0. Got 0\n",
      "\n",
      "  FitFailedWarning)\n"
     ]
    },
    {
     "data": {
      "text/plain": [
       "GridSearchCV(estimator=KNeighborsClassifier(),\n",
       "             param_grid=[{'n_neighbors': [0, 1, 2, 3, 4, 5, 6, 7, 8, 9],\n",
       "                          'weights': ['uniform', 'distance']}])"
      ]
     },
     "execution_count": 27,
     "metadata": {},
     "output_type": "execute_result"
    }
   ],
   "source": [
    "from sklearn.model_selection import GridSearchCV\n",
    "\n",
    "clf = KNeighborsClassifier()\n",
    "param_grid = [{\n",
    "    'n_neighbors':[i for i in range(0,10)],\n",
    "    'weights':['uniform','distance'] \n",
    "}\n",
    "]\n",
    "gs_clf = GridSearchCV(clf, param_grid=param_grid)\n",
    "gs_clf.fit(X_train, y_train)"
   ]
  },
  {
   "cell_type": "code",
   "execution_count": 28,
   "metadata": {},
   "outputs": [
    {
     "data": {
      "text/plain": [
       "0.9666666666666666"
      ]
     },
     "execution_count": 28,
     "metadata": {},
     "output_type": "execute_result"
    }
   ],
   "source": [
    "gs_clf.best_estimator_\n",
    "gs_clf.best_params_\n",
    "gs_clf.best_score_"
   ]
  },
  {
   "cell_type": "markdown",
   "metadata": {},
   "source": [
    "### 模型评估"
   ]
  },
  {
   "cell_type": "code",
   "execution_count": 29,
   "metadata": {},
   "outputs": [
    {
     "data": {
      "text/plain": [
       "0.9333333333333333"
      ]
     },
     "execution_count": 29,
     "metadata": {},
     "output_type": "execute_result"
    }
   ],
   "source": [
    "gs_clf.best_estimator_.predict(X_test)\n",
    "gs_clf.best_estimator_.score(X_test, y_test)"
   ]
  },
  {
   "cell_type": "code",
   "execution_count": null,
   "metadata": {},
   "outputs": [],
   "source": []
  }
 ],
 "metadata": {
  "kernelspec": {
   "display_name": "Python 3",
   "language": "python",
   "name": "python3"
  },
  "language_info": {
   "codemirror_mode": {
    "name": "ipython",
    "version": 3
   },
   "file_extension": ".py",
   "mimetype": "text/x-python",
   "name": "python",
   "nbconvert_exporter": "python",
   "pygments_lexer": "ipython3",
   "version": "3.6.4"
  },
  "toc": {
   "base_numbering": 1,
   "nav_menu": {},
   "number_sections": true,
   "sideBar": true,
   "skip_h1_title": false,
   "title_cell": "Table of Contents",
   "title_sidebar": "Contents",
   "toc_cell": false,
   "toc_position": {},
   "toc_section_display": true,
   "toc_window_display": true
  }
 },
 "nbformat": 4,
 "nbformat_minor": 2
}
