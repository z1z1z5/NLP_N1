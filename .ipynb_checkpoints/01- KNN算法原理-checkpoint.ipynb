{
 "cells": [
  {
   "cell_type": "code",
   "execution_count": 9,
   "metadata": {},
   "outputs": [],
   "source": [
    "import numpy as np\n",
    "import matplotlib.pyplot as plt"
   ]
  },
  {
   "cell_type": "code",
   "execution_count": 2,
   "metadata": {},
   "outputs": [
    {
     "data": {
      "image/png": "[encoded data removed]",
      "text/plain": [
       "<Figure size 432x288 with 1 Axes>"
      ]
     },
     "metadata": {
      "needs_background": "light"
     },
     "output_type": "display_data"
    }
   ],
   "source": [
    "X = [\n",
    "    [3.40, 2.8],\n",
    "     [3.1, 1.8],\n",
    "     [1.5, 3.4],\n",
    "     [3.6, 4.7],\n",
    "     [2.3, 2.9],\n",
    "     [7.4,4.5],\n",
    "     [5.7, 3.5],\n",
    "     [9.2, 2.5],\n",
    "     [7.9, 3.4]    \n",
    "]\n",
    "\n",
    "y = [0, 0, 0, 0, 0, 1, 1, 1, 1]\n",
    "\n",
    "x_train = np.array(X)\n",
    "y_train = np.array(y)\n",
    "\n",
    "plt.scatter(x_train[y_train==0, 0], x_train[y_train==0, 1], color='g')\n",
    "plt.scatter(x_train[y_train==1, 0], x_train[y_train==1, 1], color='r')\n",
    "plt.show()"
   ]
  },
  {
   "cell_type": "code",
   "execution_count": 3,
   "metadata": {},
   "outputs": [
    {
     "data": {
      "image/png": "[encoded data removed]",
      "text/plain": [
       "<Figure size 432x288 with 1 Axes>"
      ]
     },
     "metadata": {
      "needs_background": "light"
     },
     "output_type": "display_data"
    }
   ],
   "source": [
    "x = np.array([5.1, 3.4])\n",
    "\n",
    "plt.scatter(x_train[y_train==0, 0], x_train[y_train==0, 1], color='g')\n",
    "plt.scatter(x_train[y_train==1, 0], x_train[y_train==1, 1], color='r')\n",
    "plt.scatter(x[0], x[1], color='b')\n",
    "plt.show()"
   ]
  },
  {
   "cell_type": "code",
   "execution_count": 5,
   "metadata": {},
   "outputs": [],
   "source": [
    "### KNN的过程\n",
    "\n",
    "from math import sqrt\n",
    "distances = []\n",
    "\n",
    "for xi in x_train:\n",
    "    d = sqrt(np.sum((xi-x)**2))\n",
    "    distances.append(d)\n",
    "\n",
    "nearest = np.argsort(distances)\n",
    "# print(nearest)"
   ]
  },
  {
   "cell_type": "code",
   "execution_count": 6,
   "metadata": {},
   "outputs": [
    {
     "data": {
      "image/png": "[encoded data removed]",
      "text/plain": [
       "<Figure size 432x288 with 1 Axes>"
      ]
     },
     "metadata": {
      "needs_background": "light"
     },
     "output_type": "display_data"
    }
   ],
   "source": [
    "k = 3\n",
    "\n",
    "plt.scatter(x_train[y_train==0, 0], x_train[y_train==0, 1], color='g')\n",
    "plt.scatter(x_train[y_train==1, 0], x_train[y_train==1, 1], color='r')\n",
    "plt.scatter(x_train[nearest[:k], 0],x_train[nearest[:k], 1], color='black', marker='+')\n",
    "plt.scatter(x[0], x[1], color='b')\n",
    "plt.show()"
   ]
  },
  {
   "cell_type": "code",
   "execution_count": 8,
   "metadata": {},
   "outputs": [
    {
     "name": "stdout",
     "output_type": "stream",
     "text": [
      "0\n"
     ]
    }
   ],
   "source": [
    "topk_y = [y_train[i] for i in nearest[:k]]\n",
    "# print(topk_y)\n",
    "\n",
    "from collections import Counter\n",
    "count = Counter(topk_y)\n",
    "predict = count.most_common(1)[0][0]\n",
    "print(predict)"
   ]
  },
  {
   "cell_type": "code",
   "execution_count": null,
   "metadata": {},
   "outputs": [],
   "source": []
  }
 ],
 "metadata": {
  "kernelspec": {
   "display_name": "Python 3",
   "language": "python",
   "name": "python3"
  },
  "language_info": {
   "codemirror_mode": {
    "name": "ipython",
    "version": 3
   },
   "file_extension": ".py",
   "mimetype": "text/x-python",
   "name": "python",
   "nbconvert_exporter": "python",
   "pygments_lexer": "ipython3",
   "version": "3.7.3"
  },
  "toc": {
   "base_numbering": 1,
   "nav_menu": {},
   "number_sections": true,
   "sideBar": true,
   "skip_h1_title": false,
   "title_cell": "Table of Contents",
   "title_sidebar": "Contents",
   "toc_cell": false,
   "toc_position": {},
   "toc_section_display": true,
   "toc_window_display": false
  }
 },
 "nbformat": 4,
 "nbformat_minor": 4
}
